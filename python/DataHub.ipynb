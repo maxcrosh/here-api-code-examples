{
  "nbformat": 4,
  "nbformat_minor": 2,
  "metadata": {
    "colab": {
      "name": "DataHub.ipynb",
      "provenance": []
    },
    "kernelspec": {
      "name": "python3",
      "display_name": "Python 3"
    },
    "language_info": {
      "name": "python"
    }
  },
  "cells": [
    {
      "cell_type": "code",
      "execution_count": null,
      "source": [
        "import requests\r\n",
        "import json\r\n",
        "import folium"
      ],
      "outputs": [],
      "metadata": {
        "id": "CcUSEnAXnNbl"
      }
    },
    {
      "cell_type": "code",
      "execution_count": null,
      "source": [
        "DATA_HUB_SERVICE = \"https://xyz.api.here.com/hub\"\r\n",
        "ACCESS_TOKEN = \"SPACE_ACCESS_TOKEN\""
      ],
      "outputs": [],
      "metadata": {
        "id": "Qs-yltfwoUZP"
      }
    },
    {
      "cell_type": "code",
      "execution_count": null,
      "source": [
        "def get_spaces(access_token=None):\r\n",
        "  \"\"\"\r\n",
        "  Получение списка баз данных.\r\n",
        "  \"\"\"\r\n",
        "  params = {\r\n",
        "      \"access_token\": access_token\r\n",
        "  }\r\n",
        "\r\n",
        "  response = requests.get(f'{DATA_HUB_SERVICE}/spaces', params=params)\r\n",
        "\r\n",
        "  return response.json()"
      ],
      "outputs": [],
      "metadata": {
        "id": "aLF3Y49KpiS6"
      }
    },
    {
      "cell_type": "code",
      "execution_count": null,
      "source": [
        "# get_spaces(ACCESS_TOKEN)"
      ],
      "outputs": [],
      "metadata": {
        "id": "B4UreQtDqn7H"
      }
    },
    {
      "cell_type": "code",
      "execution_count": null,
      "source": [
        "def get_space(access_token=None, space_id=None):\r\n",
        "  \"\"\"\r\n",
        "  Информация о базе данных по SPACE_ID.\r\n",
        "  \"\"\"\r\n",
        "  params = {\r\n",
        "      \"access_token\": access_token\r\n",
        "  }\r\n",
        "\r\n",
        "  response = requests.get(f'{DATA_HUB_SERVICE}/spaces/{space_id}', params=params)\r\n",
        "\r\n",
        "  return response.json()"
      ],
      "outputs": [],
      "metadata": {
        "id": "YUPdmNsMt5bh"
      }
    },
    {
      "cell_type": "code",
      "execution_count": null,
      "source": [
        "get_space(access_token=ACCESS_TOKEN, space_id=\"mcg7jg9I\")"
      ],
      "outputs": [
        {
          "output_type": "execute_result",
          "data": {
            "text/plain": [
              "{'cid': 'bzvxusZ75R5lxtGdqZUp',\n",
              " 'contentUpdatedAt': 1622545570158,\n",
              " 'createdAt': 1622545570158,\n",
              " 'description': '-',\n",
              " 'enableUUID': True,\n",
              " 'id': 'mcg7jg9I',\n",
              " 'owner': 'HERE-6c0ff345-8333-4d8b-9db1-57f712872db7',\n",
              " 'storage': {'id': 'psql-db1-eu-west-1', 'params': None},\n",
              " 'title': 'avoska (2).geojson',\n",
              " 'updatedAt': 1622545570158}"
            ]
          },
          "metadata": {
            "tags": []
          },
          "execution_count": 26
        }
      ],
      "metadata": {
        "colab": {
          "base_uri": "https://localhost:8080/"
        },
        "id": "kytYS1B2uZQP",
        "outputId": "25947ad9-a3c6-47d9-9bc8-38700f21b029"
      }
    },
    {
      "cell_type": "code",
      "execution_count": null,
      "source": [
        "def iterate_space(access_token=None, space_id=None):\r\n",
        "  \"\"\"\r\n",
        "  Получение данных.\r\n",
        "  \"\"\"\r\n",
        "  params = {\r\n",
        "      \"access_token\": access_token\r\n",
        "  }\r\n",
        "\r\n",
        "  response = requests.get(f'{DATA_HUB_SERVICE}/spaces/{space_id}/iterate', params=params)\r\n",
        "\r\n",
        "  return response.json()"
      ],
      "outputs": [],
      "metadata": {
        "id": "hoKS9i4Bu3u8"
      }
    },
    {
      "cell_type": "code",
      "execution_count": null,
      "source": [
        "features = iterate_space(access_token=ACCESS_TOKEN, space_id=\"SPACE_ID\")['features']\r\n",
        "features[0]"
      ],
      "outputs": [
        {
          "output_type": "execute_result",
          "data": {
            "text/plain": [
              "{'geometry': {'coordinates': [37.354932, 55.854577, 0], 'type': 'Point'},\n",
              " 'id': '0',\n",
              " 'options': {'iconColor': '#ff0000', 'preset': 'avoska#icon'},\n",
              " 'properties': {'@ns:com:here:xyz': {'createdAt': 1622545573288,\n",
              "   'space': 'mcg7jg9I',\n",
              "   'tags': ['avoska_(2)'],\n",
              "   'updatedAt': 1622545573288,\n",
              "   'uuid': 'd8531563-b4b6-4b10-8320-ea5b21320dbf'},\n",
              "  'hintContent': 'ул. Митинская д. 56'},\n",
              " 'type': 'Feature'}"
            ]
          },
          "metadata": {
            "tags": []
          },
          "execution_count": 31
        }
      ],
      "metadata": {
        "colab": {
          "base_uri": "https://localhost:8080/"
        },
        "id": "H-fAynBLvS3i",
        "outputId": "67a71978-a543-4b8f-b103-41da34ddcc09"
      }
    },
    {
      "cell_type": "code",
      "execution_count": null,
      "source": [
        "def put_feature(_id, lat, lng, access_token=None, space_id=None):\r\n",
        "  \"\"\"\r\n",
        "  Загрузка объекта.\r\n",
        "  \"\"\"\r\n",
        "  params = {\r\n",
        "      \"access_token\": access_token\r\n",
        "  }\r\n",
        "\r\n",
        "  headers = {\r\n",
        "      \"Content-Type\": \"application/geo+json\"\r\n",
        "  }\r\n",
        "  \r\n",
        "  data = {\r\n",
        "    \"type\": \"FeatureCollection\",\r\n",
        "    \"features\": [\r\n",
        "      {\r\n",
        "        \"type\": \"Feature\",\r\n",
        "        \"geometry\": {\r\n",
        "          \"type\": \"Point\",\r\n",
        "          \"coordinates\": [\r\n",
        "            lng,\r\n",
        "            lat\r\n",
        "          ]\r\n",
        "        },\r\n",
        "        \"properties\": {\r\n",
        "          \"name\": \"Anfield\",\r\n",
        "          \"@ns:com:here:xyz\": {\r\n",
        "            \"createdAt\": 1517504700726,\r\n",
        "            \"updatedAt\": 1517504700726,\r\n",
        "            \"tags\": [\r\n",
        "              \"football\",\r\n",
        "              \"stadium\"\r\n",
        "            ]\r\n",
        "          },\r\n",
        "          \"amenity\": \"Football Stadium\",\r\n",
        "          \"capacity\": 54074,\r\n",
        "          \"description\": \"Home of Liverpool Football Club\"\r\n",
        "        }\r\n",
        "      }\r\n",
        "    ]\r\n",
        "  }\r\n",
        "  \r\n",
        "  response = requests.put(f'{DATA_HUB_SERVICE}/spaces/{space_id}/features/{_id}', headers=headers, params=params, data=json.dumps(data))\r\n",
        "\r\n",
        "  return response.text"
      ],
      "outputs": [],
      "metadata": {
        "id": "Xz-5FI46vn_X"
      }
    },
    {
      "cell_type": "code",
      "execution_count": null,
      "source": [
        "put_feature(2, 37, 44, access_token=ACCESS_TOKEN, space_id=\"GWoxD85G\")"
      ],
      "outputs": [
        {
          "output_type": "execute_result",
          "data": {
            "text/plain": [
              "'{\"type\":\"Feature\",\"id\":\"2\",\"geometry\":{\"type\":\"Point\",\"bbox\":null,\"coordinates\":[44.0,37.0]},\"properties\":{\"@ns:com:here:xyz\":{\"space\":\"GWoxD85G\",\"createdAt\":1622807112153,\"updatedAt\":1622807112153,\"uuid\":\"d9e3ed5a-34e2-4057-95d2-606e579f6750\",\"puuid\":null,\"muuid\":null,\"tags\":[\"football\",\"stadium\"]},\"amenity\":\"Football Stadium\",\"name\":\"Anfield\",\"description\":\"Home of Liverpool Football Club\",\"capacity\":54074}}'"
            ],
            "application/vnd.google.colaboratory.intrinsic+json": {
              "type": "string"
            }
          },
          "metadata": {
            "tags": []
          },
          "execution_count": 61
        }
      ],
      "metadata": {
        "colab": {
          "base_uri": "https://localhost:8080/",
          "height": 52
        },
        "id": "ExTdJa8YwNq9",
        "outputId": "5a3ed551-281f-4952-d519-1014fa1b026e"
      }
    }
  ]
}