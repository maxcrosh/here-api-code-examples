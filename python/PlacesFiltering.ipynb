{
  "nbformat": 4,
  "nbformat_minor": 2,
  "metadata": {
    "colab": {
      "name": "Places.ipynb",
      "provenance": []
    },
    "kernelspec": {
      "name": "python3",
      "display_name": "Python 3"
    },
    "language_info": {
      "name": "python"
    }
  },
  "cells": [
    {
      "cell_type": "code",
      "execution_count": null,
      "source": [
        "import requests\r\n",
        "from shapely.geometry import Polygon, Point\r\n",
        "import flexpolyline"
      ],
      "outputs": [],
      "metadata": {
        "id": "zHojiIAe_DaR"
      }
    },
    {
      "cell_type": "code",
      "execution_count": null,
      "source": [
        "API_KEY = \"YOUR_API_KEY\"\r\n",
        "PLACES_ENDPOINT = \"https://browse.search.hereapi.com/v1/browse\"\r\n",
        "ISOLINE_ENDPOINT = \"https://isoline.router.hereapi.com/v8/isolines\""
      ],
      "outputs": [],
      "metadata": {
        "id": "4kESEqeMQ60P"
      }
    },
    {
      "cell_type": "code",
      "execution_count": null,
      "source": [
        "def get_place():\r\n",
        "  params = {\r\n",
        "    'apiKey': API_KEY, \r\n",
        "    'at': '52.5308,13.3856',\r\n",
        "    'limit': 100\r\n",
        "  }\r\n",
        "\r\n",
        "  response_places = requests.get(PLACES_ENDPOINT, params=params)\r\n",
        "  return response_places.json()"
      ],
      "outputs": [],
      "metadata": {
        "id": "dmnr7qP1Riq8"
      }
    },
    {
      "cell_type": "code",
      "execution_count": null,
      "source": [
        "def get_isoline():\r\n",
        "  isoline_params = {\r\n",
        "      'apiKey': API_KEY, \r\n",
        "      'origin': '52.5308,13.3856',\r\n",
        "      'range[type]': 'time',\r\n",
        "      'range[values]': 120,\r\n",
        "      'transportMode': 'pedestrian'\r\n",
        "  }\r\n",
        "\r\n",
        "  response_isoline = requests.get(ISOLINE_ENDPOINT, params=isoline_params).json()\r\n",
        "  isoline = Polygon(flexpolyline.decode(response_isoline['isolines'][0]['polygons'][0]['outer']))\r\n",
        "  return isoline"
      ],
      "outputs": [],
      "metadata": {
        "id": "RcSQnHJxgC_2"
      }
    },
    {
      "cell_type": "code",
      "execution_count": null,
      "source": [
        "isoline = get_isoline()"
      ],
      "outputs": [],
      "metadata": {
        "id": "w1hDg9b3gYSQ"
      }
    },
    {
      "cell_type": "code",
      "execution_count": null,
      "source": [
        "places = [{'title': place['title'], 'lat': place['position']['lat'], 'lng': place['position']['lng']} for place in get_place()['items']]"
      ],
      "outputs": [],
      "metadata": {
        "id": "v2ADpDk6j1SK"
      }
    },
    {
      "cell_type": "code",
      "execution_count": null,
      "source": [
        "def filter_places ():\r\n",
        "  for place in places:\r\n",
        "    marker = Point(place['lat'], place['lng'])\r\n",
        "    isInsidePolygon = isoline.contains(marker)\r\n",
        "\r\n",
        "    if isInsidePolygon:\r\n",
        "      yield place"
      ],
      "outputs": [],
      "metadata": {
        "id": "3cVEO-ITj21r"
      }
    },
    {
      "cell_type": "code",
      "execution_count": null,
      "source": [
        "list(filter_places())"
      ],
      "outputs": [
        {
          "output_type": "execute_result",
          "data": {
            "text/plain": [
              "[{'lat': 52.53095, 'lng': 13.38522, 'title': 'Dm-Drogerie Markt'},\n",
              " {'lat': 52.53111, 'lng': 13.38575, 'title': 'Senioren-Domizil'},\n",
              " {'lat': 52.53041, 'lng': 13.38527, 'title': 'Super-Sessions'},\n",
              " {'lat': 52.53041, 'lng': 13.38527, 'title': 'Kunstfabrik Schlot'},\n",
              " {'lat': 52.53041, 'lng': 13.38527, 'title': 'Galerie Mehdi Chouakri'},\n",
              " {'lat': 52.53041, 'lng': 13.38527, 'title': \"Marakesh's School of Rock\"},\n",
              " {'lat': 52.53064, 'lng': 13.38631, 'title': 'Four Music'},\n",
              " {'lat': 52.53064,\n",
              "  'lng': 13.38631,\n",
              "  'title': 'SONY Music Entertainment Germany'},\n",
              " {'lat': 52.53126, 'lng': 13.38571, 'title': 'Evangelische Bank eG'},\n",
              " {'lat': 52.53119, 'lng': 13.38497, 'title': 'Abk Allgemeine Beamten Bank'},\n",
              " {'lat': 52.53119,\n",
              "  'lng': 13.38497,\n",
              "  'title': 'Allgemeine Beamten Finanz- Leasing'},\n",
              " {'lat': 52.53086,\n",
              "  'lng': 13.38469,\n",
              "  'title': 'China Visa Application Service Center'},\n",
              " {'lat': 52.53086, 'lng': 13.38469, 'title': 'HERE Berlin'},\n",
              " {'lat': 52.53121, 'lng': 13.38638, 'title': 'Werner Kraske Rechtsanwalt'},\n",
              " {'lat': 52.53121, 'lng': 13.38638, 'title': 'Friseursalon Böhland'},\n",
              " {'lat': 52.53121, 'lng': 13.38638, 'title': 'Rechtsanwälte Harnisch Prieß'},\n",
              " {'lat': 52.53121, 'lng': 13.38638, 'title': 'Uniqueevents Berlin'},\n",
              " {'lat': 52.53121, 'lng': 13.38638, 'title': 'Nails de Luxe Berlin'},\n",
              " {'lat': 52.53112,\n",
              "  'lng': 13.38471,\n",
              "  'title': 'Elternschaft und Suchterkrankung'},\n",
              " {'lat': 52.53112, 'lng': 13.38471, 'title': 'Dr. med. Thorsten Richter'},\n",
              " {'lat': 52.53112, 'lng': 13.38471, 'title': 'Co Chu'},\n",
              " {'lat': 52.53081, 'lng': 13.38449, 'title': 'Dipl.Psych. Katja Dittmann'},\n",
              " {'lat': 52.53081, 'lng': 13.38449, 'title': 'Maritta Jungandreas'},\n",
              " {'lat': 52.53081, 'lng': 13.38449, 'title': 'Dr. sc. med. Christoph Seidler'},\n",
              " {'lat': 52.53081, 'lng': 13.38449, 'title': 'Ipak'},\n",
              " {'lat': 52.53081,\n",
              "  'lng': 13.38449,\n",
              "  'title': 'Arbeitsgem. F. Psychonanalyse und Psychotherapie'},\n",
              " {'lat': 52.53081, 'lng': 13.38449, 'title': 'Marit'},\n",
              " {'lat': 52.53081, 'lng': 13.38449, 'title': 'Researchgate'},\n",
              " {'lat': 52.53081,\n",
              "  'lng': 13.38449,\n",
              "  'title': 'Archikid - Workshops für Kinder über die Architektur und die'},\n",
              " {'lat': 52.53113, 'lng': 13.38451, 'title': 'Bangaluu-Private Dining'},\n",
              " {'lat': 52.53113,\n",
              "  'lng': 13.38451,\n",
              "  'title': 'Allgemeine Beamten Kasse Kreditbank'},\n",
              " {'lat': 52.53105, 'lng': 13.38681, 'title': 'Oslo Kaffebar'},\n",
              " {'lat': 52.53105, 'lng': 13.38681, 'title': 'Angelika Böhme Rechtsanwältin'},\n",
              " {'lat': 52.53105, 'lng': 13.38681, 'title': 'Eis Plansche'},\n",
              " {'lat': 52.53102, 'lng': 13.38435, 'title': 'Bankhaus August Lenz'},\n",
              " {'lat': 52.53102, 'lng': 13.38435, 'title': 'Public Atm'},\n",
              " {'lat': 52.53102, 'lng': 13.38435, 'title': 'Boutique Hotel i31'},\n",
              " {'lat': 52.53102, 'lng': 13.38435, 'title': 'Cozy Restaurant'},\n",
              " {'lat': 52.53102, 'lng': 13.38435, 'title': 'Euronet'},\n",
              " {'lat': 52.53143,\n",
              "  'lng': 13.38478,\n",
              "  'title': 'Redi School of Digital Integration'},\n",
              " {'lat': 52.53143, 'lng': 13.38478, 'title': 'Nestim'},\n",
              " {'lat': 52.53143, 'lng': 13.38478, 'title': 'K-MB Agentur'},\n",
              " {'lat': 52.53143,\n",
              "  'lng': 13.38478,\n",
              "  'title': 'Grenz- und Geisterbahnhofe im Geteilten Berlin'},\n",
              " {'lat': 52.53127,\n",
              "  'lng': 13.38668,\n",
              "  'title': 'Reinhard Arf Rechtsanwalt und Notar'},\n",
              " {'lat': 52.53127,\n",
              "  'lng': 13.38668,\n",
              "  'title': 'Wellensteyn Collection Store Berlin'},\n",
              " {'lat': 52.53127, 'lng': 13.38668, 'title': 'Special Olympics Deutschland'},\n",
              " {'lat': 52.53127, 'lng': 13.38668, 'title': 'Kathrin Fink'},\n",
              " {'lat': 52.53074, 'lng': 13.38426, 'title': 'Nordland Apotheke'},\n",
              " {'lat': 52.53074, 'lng': 13.38426, 'title': 'M + R Fricke'},\n",
              " {'lat': 52.53017, 'lng': 13.38646, 'title': 'Rauch Media'},\n",
              " {'lat': 52.53005, 'lng': 13.38615, 'title': 'Radsporthandel Kil'},\n",
              " {'lat': 52.53005, 'lng': 13.38615, 'title': 'Haiku Internet'},\n",
              " {'lat': 52.53005, 'lng': 13.38615, 'title': 'Re Exes real Estate Executive'},\n",
              " {'lat': 52.53005, 'lng': 13.38615, 'title': 'Micha Pelz Coiffure'},\n",
              " {'lat': 52.53161,\n",
              "  'lng': 13.38536,\n",
              "  'title': 'DZ BANK AG DEUTSCHE ZENTRAL GENOSSENSCHAFTSBANK'},\n",
              " {'lat': 52.53161,\n",
              "  'lng': 13.38536,\n",
              "  'title': 'Soziale Berufe. Kann Nicht Jeder.'},\n",
              " {'lat': 52.53161, 'lng': 13.38536, 'title': 'Klima-Kollekte'},\n",
              " {'lat': 52.53161, 'lng': 13.38536, 'title': 'Diakonie Deutschland'},\n",
              " {'lat': 52.53161, 'lng': 13.38536, 'title': 'Primo Cafebar'},\n",
              " {'lat': 52.53161, 'lng': 13.38536, 'title': 'Dienste in Übersee'},\n",
              " {'lat': 52.53103,\n",
              "  'lng': 13.38426,\n",
              "  'title': 'Ladestation für Elektrofahrzeuge'},\n",
              " {'lat': 52.52997,\n",
              "  'lng': 13.38597,\n",
              "  'title': 'Reinhold Knittel Marketing Berlin'},\n",
              " {'lat': 52.52997, 'lng': 13.38597, 'title': 'Neue Gestaltung'},\n",
              " {'lat': 52.53096, 'lng': 13.38416, 'title': 'HSH Hotel Apartments Mitte'},\n",
              " {'lat': 52.53015,\n",
              "  'lng': 13.38666,\n",
              "  'title': 'Schlegelstraße, 10115 Berlin, Deutschland'},\n",
              " {'lat': 52.53125,\n",
              "  'lng': 13.38426,\n",
              "  'title': 'Ladestation für Elektrofahrzeuge'},\n",
              " {'lat': 52.52986,\n",
              "  'lng': 13.38571,\n",
              "  'title': 'Griesehop Lisa Fachanwältin für Arbeitsrecht-Sozialrecht'},\n",
              " {'lat': 52.53163,\n",
              "  'lng': 13.38484,\n",
              "  'title': 'Am Nordbahnhof, 10115 Berlin, Deutschland'},\n",
              " {'lat': 52.53168, 'lng': 13.38631, 'title': 'Steinecke'},\n",
              " {'lat': 52.52982, 'lng': 13.38574, 'title': 'Allego'},\n",
              " {'lat': 52.53065, 'lng': 13.38393, 'title': 'Helix Hub'},\n",
              " {'lat': 52.52999, 'lng': 13.38671, 'title': 'It-Lösungen Reimann'},\n",
              " {'lat': 52.52993, 'lng': 13.38659, 'title': 'Dr. Viola Fischer'},\n",
              " {'lat': 52.52993, 'lng': 13.38659, 'title': 'Arsmercandi'},\n",
              " {'lat': 52.52993, 'lng': 13.38659, 'title': 'Elaborate Events'},\n",
              " {'lat': 52.52993, 'lng': 13.38659, 'title': 'Audiocure Pharma'},\n",
              " {'lat': 52.52993,\n",
              "  'lng': 13.38659,\n",
              "  'title': 'Dr. med. dent. MelanieMichiko Dahlem'},\n",
              " {'lat': 52.52993, 'lng': 13.38659, 'title': 'Blue Scope Communications'},\n",
              " {'lat': 52.52993,\n",
              "  'lng': 13.38659,\n",
              "  'title': 'Kdms Medien Beteiligungen und Rechte'}]"
            ]
          },
          "metadata": {
            "tags": []
          },
          "execution_count": 59
        }
      ],
      "metadata": {
        "id": "mdJwJj7vk21b",
        "colab": {
          "base_uri": "https://localhost:8080/"
        },
        "outputId": "e5c3b6f4-b2d0-43e8-c6ff-0350584054a3"
      }
    }
  ]
}