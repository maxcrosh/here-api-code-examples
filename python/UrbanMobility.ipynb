{
  "nbformat": 4,
  "nbformat_minor": 2,
  "metadata": {
    "colab": {
      "name": "Urban mobility.ipynb",
      "provenance": [],
      "collapsed_sections": []
    },
    "kernelspec": {
      "name": "python3",
      "display_name": "Python 3"
    },
    "language_info": {
      "name": "python"
    }
  },
  "cells": [
    {
      "cell_type": "markdown",
      "source": [
        "**Urban Mobility location services**"
      ],
      "metadata": {
        "id": "gNaLr5tcO-Te"
      }
    },
    {
      "cell_type": "code",
      "execution_count": 5,
      "source": [
        "import requests\r\n",
        "import folium\r\n",
        "import flexpolyline"
      ],
      "outputs": [],
      "metadata": {
        "id": "mlkVPATGOo6Y"
      }
    },
    {
      "cell_type": "code",
      "execution_count": 126,
      "source": [
        "API_KEY = \"YOUT_API_KEY\"\r\n",
        "TRAFFIC_FLOW_ENDPOINT = \"https://traffic.ls.hereapi.com/traffic/6.3/flow.json\"\r\n",
        "TRANSIT_ENDPOINT = \"https://transit.router.hereapi.com/v8/routes\"\r\n",
        "ROUTING_ENDPOINT = \"https://router.hereapi.com/v8/routes\"\r\n",
        "WEATHER_ENDPOINT = \"https://weather.ls.hereapi.com/weather/1.0/report.json\"\r\n",
        "ISOLINE_ENDPOINT = \"https://isoline.router.hereapi.com/v8/isolines\"\r\n",
        "MAP_TILE_ENDPOINT = \"https://1.base.maps.ls.hereapi.com/maptile/2.1/maptile/newest/normal.day/{z}/{x}/{y}/256/png8\""
      ],
      "outputs": [],
      "metadata": {
        "id": "jWaWmdIeOuvl"
      }
    },
    {
      "cell_type": "markdown",
      "source": [
        "**Traffic Flow API**"
      ],
      "metadata": {
        "id": "9ttxczj0OwCd"
      }
    },
    {
      "cell_type": "code",
      "execution_count": 15,
      "source": [
        "def get_traffic(\r\n",
        "    top_lat=39.8485715, \r\n",
        "    top_lng=-86.0969867, \r\n",
        "    bottom_lat=39.8358934,\r\n",
        "    bottom_lng=-86.0757964\r\n",
        "  ):\r\n",
        "  traffic_params = {\r\n",
        "      \"apiKey\": API_KEY,\r\n",
        "      \"bbox\": f\"{top_lat},{top_lng};{bottom_lat},{bottom_lng}\",\r\n",
        "      \"responseattributes\": \"sh,fc\",\r\n",
        "  }\r\n",
        "\r\n",
        "  response = requests.get(TRAFFIC_FLOW_ENDPOINT, params=traffic_params).json()\r\n",
        "\r\n",
        "  return response"
      ],
      "outputs": [],
      "metadata": {
        "id": "VB3Pf7PnYa_o"
      }
    },
    {
      "cell_type": "code",
      "execution_count": 65,
      "source": [
        "traffic_data = get_traffic()"
      ],
      "outputs": [],
      "metadata": {
        "id": "r1Bz5lVpndHa"
      }
    },
    {
      "cell_type": "code",
      "execution_count": 92,
      "source": [
        "traffic_map = folium.Map(\r\n",
        "        location=[52.52923, 13.3881], \r\n",
        "        zoom_start=15,\r\n",
        "        tiles=\"https://1.traffic.maps.ls.hereapi.com/traffic/6.0/tiles/{z}/{x}/{y}/256/png32?apiKey=\" + API_KEY,\r\n",
        "        attr='HERE'\r\n",
        "    )\r\n",
        "# traffic_map"
      ],
      "outputs": [],
      "metadata": {
        "id": "q9ZhmawUITXt"
      }
    },
    {
      "cell_type": "markdown",
      "source": [
        "**Public Transit API**"
      ],
      "metadata": {
        "id": "oHAuPYT0ylDj"
      }
    },
    {
      "cell_type": "code",
      "execution_count": 72,
      "source": [
        "def get_transit_route(\r\n",
        "    origin_lat=52.529798, \r\n",
        "    origin_lng=13.37903022, \r\n",
        "    destination_lat=52.53611, \r\n",
        "    destination_lng=13.407011\r\n",
        "  ):\r\n",
        "  transit_params = {\r\n",
        "      \"apiKey\": API_KEY,\r\n",
        "      \"origin\": f\"{origin_lat},{origin_lng}\",\r\n",
        "      \"destination\": f\"{destination_lat},{destination_lng}\",\r\n",
        "      \"return\": \"polyline\",\r\n",
        "  }\r\n",
        "\r\n",
        "  response = requests.get(TRANSIT_ENDPOINT, params=transit_params).json()\r\n",
        "\r\n",
        "  return response"
      ],
      "outputs": [],
      "metadata": {
        "id": "XPf-MGDOypXw"
      }
    },
    {
      "cell_type": "code",
      "execution_count": 73,
      "source": [
        "transit_data = get_transit_route()"
      ],
      "outputs": [],
      "metadata": {
        "id": "CCrOP4-czqgl"
      }
    },
    {
      "cell_type": "code",
      "execution_count": 78,
      "source": [
        "route_sections = transit_data['routes'][0]['sections']"
      ],
      "outputs": [],
      "metadata": {
        "id": "Ln3lVqF4F00q"
      }
    },
    {
      "cell_type": "code",
      "execution_count": 93,
      "source": [
        "transit_map = folium.Map(\n",
        "        location=[52.52923, 13.3881], \n",
        "        zoom_start=15,\n",
        "        tiles=\"https://1.base.maps.ls.hereapi.com/maptile/2.1/maptile/newest/normal.day/{z}/{x}/{y}/256/png8?apiKey=\" + API_KEY,\n",
        "        attr='HERE'\n",
        "    )\n",
        "\n",
        "for route in route_sections:\n",
        "  folium.PolyLine(flexpolyline.decode(route['polyline']), popup=f\"Transport mode: {route['transport']['mode']}\").add_to(transit_map)\n",
        "\n",
        "# transit_map"
      ],
      "outputs": [],
      "metadata": {
        "id": "OF0WNZkBGMov"
      }
    },
    {
      "cell_type": "markdown",
      "source": [
        "**Isoline API** "
      ],
      "metadata": {
        "id": "RmLTPah80SNG"
      }
    },
    {
      "cell_type": "code",
      "execution_count": 108,
      "source": [
        "def get_isoline(\n",
        "    origin_lat=52.52541, \n",
        "    origin_lng=13.38586,\n",
        "    transport_type=\"pedestrian\",  # car, bicycle, truck ...\n",
        "    range_type='time', # time || distance\n",
        "    value=500\n",
        "  ):\n",
        "  isoline_params = {\n",
        "      \"apiKey\": API_KEY,\n",
        "      \"origin\": f\"{origin_lat},{origin_lng}\",\n",
        "      \"transportMode\": transport_type,\n",
        "      \"range[type]\": range_type,\n",
        "      \"range[values]\": value,\n",
        "  }\n",
        "\n",
        "  response = requests.get(ISOLINE_ENDPOINT, params=isoline_params).json()\n",
        "\n",
        "  return response"
      ],
      "outputs": [],
      "metadata": {
        "id": "HU-WIn8t0WnO"
      }
    },
    {
      "cell_type": "code",
      "execution_count": 113,
      "source": [
        "isoline_data = get_isoline(origin_lat=52.52541, origin_lng=13.38586, transport_type=\"car\")"
      ],
      "outputs": [],
      "metadata": {
        "id": "cRO53RjyK77k"
      }
    },
    {
      "cell_type": "code",
      "execution_count": 115,
      "source": [
        "isoline_map = folium.Map(\n",
        "        location=[52.52541, 13.38586], \n",
        "        zoom_start=15,\n",
        "        tiles=\"https://1.base.maps.ls.hereapi.com/maptile/2.1/maptile/newest/normal.day/{z}/{x}/{y}/256/png8?apiKey=\" + API_KEY,\n",
        "        attr='HERE'\n",
        "    )\n",
        "\n",
        "decoded_geometry = flexpolyline.decode(isoline_data['isolines'][0]['polygons'][0]['outer'])\n",
        "\n",
        "folium.Polygon(decoded_geometry, fill=\"lightblue\").add_to(isoline_map)\n",
        "\n",
        "# isoline_map"
      ],
      "outputs": [
        {
          "output_type": "execute_result",
          "data": {
            "text/plain": [
              "<folium.vector_layers.Polygon at 0x7f8ada121350>"
            ]
          },
          "metadata": {
            "tags": []
          },
          "execution_count": 115
        }
      ],
      "metadata": {
        "colab": {
          "base_uri": "https://localhost:8080/"
        },
        "id": "E2j3aCSGLFCZ",
        "outputId": "22d8ed60-3f35-4a3f-8d73-4915a0c1538f"
      }
    },
    {
      "cell_type": "markdown",
      "source": [
        "**Destination Weather API**"
      ],
      "metadata": {
        "id": "pAx2x-dkRe2L"
      }
    },
    {
      "cell_type": "code",
      "execution_count": 124,
      "source": [
        "def getWeather(lat, lon, apiKey):\n",
        "  \"\"\"\n",
        "  https://developer.here.com/documentation/examples/rest/auto_weather/weather-observation-lat-long\n",
        "  \"\"\"\n",
        "\n",
        "  params = {\n",
        "      \"product\": \"observation\",\n",
        "      \"latitude\": lat,\n",
        "      \"longitude\": lon,\n",
        "      \"oneobservation\": \"true\",\n",
        "      \"apiKey\": apiKey,\n",
        "  }\n",
        "\n",
        "  response = requests.get(WEATHER_ENDPOINT, params=params).json()\n",
        "  temperature = response['observations']['location'][0]['observation'][0]['temperature']\n",
        "  \n",
        "  return { \"lat\": lat, \"lon\": lon, \"temp\": temperature }"
      ],
      "outputs": [],
      "metadata": {
        "id": "_BoImuSvRq4T"
      }
    },
    {
      "cell_type": "code",
      "execution_count": 127,
      "source": [
        "def create_marker(lat, lng):\n",
        "  markerData = getWeather(lat, lng, API_KEY)\n",
        "  marker = folium.Marker(location=[lat, lng], popup=f\"{markerData['temp']}\")\n",
        "  return marker\n",
        "\n",
        "weather_map = folium.Map(\n",
        "        location=[55.7477, 37.62189], \n",
        "        zoom_start=10,\n",
        "        tiles=\"https://1.base.maps.ls.hereapi.com/maptile/2.1/maptile/newest/normal.day/{z}/{x}/{y}/256/png8?apiKey=\" + API_KEY,\n",
        "        attr='HERE'\n",
        "    )\n",
        "\n",
        "coordinates = [\n",
        "  (55.7477, 37.62189), \n",
        "  (55.7577, 37.62182), \n",
        "  (55.987477, 37.82189), \n",
        "  (55.22477, 37.72189), \n",
        "  (55.4477, 37.62189), \n",
        "  (55.3477, 37.14189)\n",
        "]\n",
        "\n",
        "for position in coordinates:\n",
        "  marker = create_marker(position[0], position[1])\n",
        "  marker.add_to(weather_map)\n",
        "\n",
        "\n",
        "# weather_map"
      ],
      "outputs": [],
      "metadata": {
        "id": "ql05-FuqReDT"
      }
    }
  ]
}