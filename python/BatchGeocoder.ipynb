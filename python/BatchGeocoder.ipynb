{
  "nbformat": 4,
  "nbformat_minor": 2,
  "metadata": {
    "colab": {
      "name": "BatchGeocoder.ipynb",
      "provenance": []
    },
    "kernelspec": {
      "name": "python3",
      "display_name": "Python 3"
    },
    "language_info": {
      "name": "python"
    }
  },
  "cells": [
    {
      "cell_type": "code",
      "execution_count": null,
      "source": [
        "import requests\r\n",
        "from bs4 import BeautifulSoup\r\n",
        "import io\r\n",
        "import zipfile"
      ],
      "outputs": [],
      "metadata": {
        "id": "piyuJ71TtOdH"
      }
    },
    {
      "cell_type": "code",
      "execution_count": null,
      "source": [
        "SERVICE_URL = \"https://batch.geocoder.ls.hereapi.com/6.2/jobs\"\r\n",
        "API_KEY = \"YOUR_API_KEY\"\r\n",
        "job_id = None"
      ],
      "outputs": [],
      "metadata": {
        "id": "huw1t_M3qDkS"
      }
    },
    {
      "cell_type": "code",
      "execution_count": null,
      "source": [
        "with open('data2geocode.txt', 'rb') as file:\r\n",
        "  print(file.read())"
      ],
      "outputs": [
        {
          "output_type": "stream",
          "name": "stdout",
          "text": [
            "b'recId|searchText\\n0001|Invalidenstra\\xc3\\x9fe 116 10115 Berlin\\n0002|Am Kronberger Hang 8 65824 Schwalbach\\n0003|425 W Randolph St Chicago IL 60606\\n0004|One Main Street Cambridge MA 02142\\n0005|200 S Mathilda Ave Sunnyvale CA 94086'\n"
          ]
        }
      ],
      "metadata": {
        "colab": {
          "base_uri": "https://localhost:8080/"
        },
        "id": "TIxYZKLuuQd-",
        "outputId": "53c5c6d1-65ce-41ff-9124-7494c042bfa4"
      }
    },
    {
      "cell_type": "code",
      "execution_count": null,
      "source": [
        "def start():\r\n",
        "  \"\"\"\r\n",
        "  Запуск операции геокодирования.\r\n",
        "  Сохранение ID работы для проверки статуса.\r\n",
        "  \"\"\"\r\n",
        "  file = open('data2geocode.txt', 'rb')\r\n",
        "\r\n",
        "  params = {\r\n",
        "      \"action\": \"run\",\r\n",
        "      \"apiKey\": API_KEY,\r\n",
        "      \"politicalview\": \"RUS\",\r\n",
        "      \"gen\": 9,\r\n",
        "      \"maxresults\": \"1\",\r\n",
        "      \"header\": \"true\",\r\n",
        "      \"indelim\": \"|\",\r\n",
        "      \"outdelim\": \";\",\r\n",
        "      \"outcols\": \"displayLatitude,displayLongitude,locationLabel,houseNumber,street,district,city,postalCode,county,state,country\",\r\n",
        "      \"outputcombined\": \"true\",\r\n",
        "  }\r\n",
        "\r\n",
        "  response = requests.post(SERVICE_URL, params=params, data=file)\r\n",
        "\r\n",
        "  parsedXMLResponse = BeautifulSoup(response.text, \"lxml\")\r\n",
        "  job_id = parsedXMLResponse.find('requestid').get_text()\r\n",
        "  print(job_id)\r\n",
        "  \r\n",
        "  file.close()"
      ],
      "outputs": [],
      "metadata": {
        "id": "3T_bEkuasPMW"
      }
    },
    {
      "cell_type": "code",
      "execution_count": null,
      "source": [
        "start()"
      ],
      "outputs": [
        {
          "output_type": "stream",
          "name": "stdout",
          "text": [
            "dHs52Uj1h9LwxoXIcmygxOIsP3IzRjwo\n"
          ]
        }
      ],
      "metadata": {
        "colab": {
          "base_uri": "https://localhost:8080/"
        },
        "id": "w4UlwYp6xOHd",
        "outputId": "ac3aaef5-0669-4e5f-e57f-2f155c959710"
      }
    },
    {
      "cell_type": "code",
      "execution_count": null,
      "source": [
        "def status(jobId):\r\n",
        "  \"\"\"\r\n",
        "  Проверка статуса работы сервиса геокодирования.\r\n",
        "  \"\"\"\r\n",
        "  statusURL = SERVICE_URL + \"/\" + jobId\r\n",
        "\r\n",
        "  params = {\r\n",
        "      \"action\": \"status\",\r\n",
        "      \"apiKey\": API_KEY\r\n",
        "  }\r\n",
        "\r\n",
        "  response = requests.get(statusURL, params=params)\r\n",
        "  print(response.text)"
      ],
      "outputs": [],
      "metadata": {
        "id": "VLXHXfKosaIL"
      }
    },
    {
      "cell_type": "code",
      "execution_count": null,
      "source": [
        "status('dHs52Uj1h9LwxoXIcmygxOIsP3IzRjwo')"
      ],
      "outputs": [
        {
          "output_type": "stream",
          "name": "stdout",
          "text": [
            "<?xml version=\"1.0\" encoding=\"UTF-8\" standalone=\"yes\"?><ns2:SearchBatch xmlns:ns2=\"http://www.navteq.com/lbsp/Search-Batch/1\"><Response><MetaInfo><RequestId>dHs52Uj1h9LwxoXIcmygxOIsP3IzRjwo</RequestId></MetaInfo><Status>completed</Status><JobStarted>2021-06-03T12:30:26.000Z</JobStarted><JobFinished>2021-06-03T12:30:28.000Z</JobFinished><TotalCount>5</TotalCount><ValidCount>5</ValidCount><InvalidCount>0</InvalidCount><ProcessedCount>5</ProcessedCount><PendingCount>0</PendingCount><SuccessCount>5</SuccessCount><ErrorCount>0</ErrorCount></Response></ns2:SearchBatch>\n"
          ]
        }
      ],
      "metadata": {
        "colab": {
          "base_uri": "https://localhost:8080/"
        },
        "id": "bSvEW7xq21xs",
        "outputId": "4512babc-7119-4526-adc1-b571a678f409"
      }
    },
    {
      "cell_type": "code",
      "execution_count": null,
      "source": [
        "def result(job_id):\r\n",
        "  \"\"\"\r\n",
        "  Скачивание результатов геокодирования.\r\n",
        "  \"\"\"\r\n",
        "  resultURL = f'{SERVICE_URL}/{job_id}/result'\r\n",
        "\r\n",
        "  params = {\r\n",
        "      \"apiKey\": API_KEY\r\n",
        "  }\r\n",
        "\r\n",
        "  response = requests.get(resultURL, params=params)\r\n",
        "\r\n",
        "  zipResult = zipfile.ZipFile(io.BytesIO(response.content))\r\n",
        "  zipResult.extractall()\r\n",
        "  print(response.url)"
      ],
      "outputs": [],
      "metadata": {
        "id": "YHeOM2Mdsg0M"
      }
    },
    {
      "cell_type": "code",
      "execution_count": null,
      "source": [
        "result('dHs52Uj1h9LwxoXIcmygxOIsP3IzRjwo')"
      ],
      "outputs": [
        {
          "output_type": "stream",
          "name": "stdout",
          "text": [
            "https://batch.geocoder.ls.hereapi.com/6.2/jobs/dHs52Uj1h9LwxoXIcmygxOIsP3IzRjwo/result?apiKey=idhlDg7Y08LoZwNQ6UCPfq5bsxtrbLMpJZi58GyIcIQ\n"
          ]
        }
      ],
      "metadata": {
        "colab": {
          "base_uri": "https://localhost:8080/"
        },
        "id": "MSCsiVa347cY",
        "outputId": "82e8d5ce-abf7-4734-d4e4-75eb10df74cc"
      }
    }
  ]
}